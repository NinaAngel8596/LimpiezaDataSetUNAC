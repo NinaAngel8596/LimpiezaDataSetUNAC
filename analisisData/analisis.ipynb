{
 "cells": [
  {
   "cell_type": "markdown",
   "metadata": {},
   "source": [
    "<h1>Analisis exploratiorio de los Ingresantes de la UNAC periodo 2023b\n",
    " <h1>"
   ]
  },
  {
   "cell_type": "code",
   "execution_count": 1,
   "metadata": {},
   "outputs": [
    {
     "name": "stdout",
     "output_type": "stream",
     "text": [
      "          ESCUELA       SEXO PROMOCION_INGRESO                   MODALIDAD  \\\n",
      "0  ADMINISTRACION  Masculino             2023B  Examen General de Admision   \n",
      "1  ADMINISTRACION  Masculino             2023B     Deportistas Calificados   \n",
      "2  ADMINISTRACION  Masculino             2023B       Primer/Segundo Puesto   \n",
      "3  ADMINISTRACION   Femenino             2023B    Centro Pre-Universitario   \n",
      "4  ADMINISTRACION  Masculino             2023B    Centro Pre-Universitario   \n",
      "\n",
      "  COLEGIO_PROCEDENCIA  \n",
      "0    Colegio Nacional  \n",
      "1  Colegio Particular  \n",
      "2    Colegio Nacional  \n",
      "3  Centro Pre de UNAC  \n",
      "4    Colegio Nacional  \n"
     ]
    }
   ],
   "source": [
    "import pandas as pd \n",
    "\n",
    "df_unac=pd.read_csv('C:/Users/ADMI/Desktop/E-D-A/data/03_INGRESANTES_limpio.csv')\n",
    "\n",
    "print(df_unac.head())"
   ]
  },
  {
   "cell_type": "markdown",
   "metadata": {},
   "source": [
    "<h2>Valores Nulos</h2>"
   ]
  },
  {
   "cell_type": "code",
   "execution_count": 2,
   "metadata": {},
   "outputs": [
    {
     "name": "stdout",
     "output_type": "stream",
     "text": [
      "ESCUELA                0\n",
      "SEXO                   0\n",
      "PROMOCION_INGRESO      0\n",
      "MODALIDAD              0\n",
      "COLEGIO_PROCEDENCIA    0\n",
      "dtype: int64\n"
     ]
    }
   ],
   "source": [
    "valor_nulos=df_unac.isnull().sum()\n",
    "print(valor_nulos)"
   ]
  },
  {
   "cell_type": "markdown",
   "metadata": {},
   "source": [
    "<p>En el data frame no se ah contado nigun valor nulo , es decir todos los registros contienen correcta</p>"
   ]
  },
  {
   "cell_type": "markdown",
   "metadata": {},
   "source": [
    "<h2>Eliminacion de columnas que no son relevante</h2>"
   ]
  },
  {
   "cell_type": "code",
   "execution_count": 6,
   "metadata": {},
   "outputs": [
    {
     "name": "stdout",
     "output_type": "stream",
     "text": [
      "['ESCUELA', 'SEXO', 'PROMOCION_INGRESO', 'MODALIDAD', 'COLEGIO_PROCEDENCIA']\n"
     ]
    }
   ],
   "source": [
    "print(list(df_unac.columns))"
   ]
  },
  {
   "cell_type": "markdown",
   "metadata": {},
   "source": [
    "<p>Estan son las variables de mi dataframe \n",
    "</p>"
   ]
  },
  {
   "cell_type": "code",
   "execution_count": 7,
   "metadata": {},
   "outputs": [
    {
     "name": "stdout",
     "output_type": "stream",
     "text": [
      "ESCUELA                17\n",
      "SEXO                    2\n",
      "PROMOCION_INGRESO       1\n",
      "MODALIDAD               9\n",
      "COLEGIO_PROCEDENCIA     7\n",
      "dtype: int64\n"
     ]
    }
   ],
   "source": [
    "valores_unicos = df_unac.nunique()\n",
    "print(valores_unicos)\n"
   ]
  },
  {
   "cell_type": "markdown",
   "metadata": {},
   "source": [
    "<p><strong>PROMOCION_INGRESO</strong> es la única variable que contiene un valor único, lo que indica que no aporta variabilidad a los datos. Por lo tanto, es recomendable eliminarla, ya que la información que proporciona no tiene influencia significativa en el análisis.</p>\n"
   ]
  },
  {
   "cell_type": "markdown",
   "metadata": {},
   "source": [
    "<h3>Eliminacion de variable</h3>"
   ]
  },
  {
   "cell_type": "code",
   "execution_count": 8,
   "metadata": {},
   "outputs": [
    {
     "name": "stdout",
     "output_type": "stream",
     "text": [
      "          ESCUELA       SEXO                   MODALIDAD COLEGIO_PROCEDENCIA\n",
      "0  ADMINISTRACION  Masculino  Examen General de Admision    Colegio Nacional\n",
      "1  ADMINISTRACION  Masculino     Deportistas Calificados  Colegio Particular\n",
      "2  ADMINISTRACION  Masculino       Primer/Segundo Puesto    Colegio Nacional\n",
      "3  ADMINISTRACION   Femenino    Centro Pre-Universitario  Centro Pre de UNAC\n",
      "4  ADMINISTRACION  Masculino    Centro Pre-Universitario    Colegio Nacional\n"
     ]
    }
   ],
   "source": [
    "df_unac = df_unac.drop('PROMOCION_INGRESO', axis=1)\n",
    "\n",
    "print(df_unac.head())\n"
   ]
  },
  {
   "cell_type": "markdown",
   "metadata": {},
   "source": [
    "<p>Este es el nuevo DataFrame sin la variable <strong>PROMOCION_INGRESO</strong>.</p>\n"
   ]
  }
 ],
 "metadata": {
  "kernelspec": {
   "display_name": "myenv",
   "language": "python",
   "name": "python3"
  },
  "language_info": {
   "codemirror_mode": {
    "name": "ipython",
    "version": 3
   },
   "file_extension": ".py",
   "mimetype": "text/x-python",
   "name": "python",
   "nbconvert_exporter": "python",
   "pygments_lexer": "ipython3",
   "version": "3.11.9"
  }
 },
 "nbformat": 4,
 "nbformat_minor": 2
}
